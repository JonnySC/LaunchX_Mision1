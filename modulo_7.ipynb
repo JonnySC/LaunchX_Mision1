{
 "cells": [
  {
   "cell_type": "markdown",
   "metadata": {},
   "source": [
    "## Programa 7\n",
    "\n",
    "Ejercicio 1\n",
    "\n",
    "Tenemos que crear un ciclo while, primero guardaremos dos variables."
   ]
  },
  {
   "cell_type": "code",
   "execution_count": 8,
   "metadata": {},
   "outputs": [],
   "source": [
    "planeta_nuevo = ''\n",
    "planetas = []"
   ]
  },
  {
   "cell_type": "markdown",
   "metadata": {},
   "source": [
    "Creamos nuestros ciclo while con nuestra variable y el metodo lower, con una palabra, agragamos la variable planetas con el  metodo append para que cada planeta se agregue a lista, por ultimo usamos usamos la funcion input para que el usuario pueda agregar planetas mediante teclado."
   ]
  },
  {
   "cell_type": "code",
   "execution_count": 9,
   "metadata": {},
   "outputs": [],
   "source": [
    "while planeta_nuevo.lower() != 'terminar':\n",
    "    if planeta_nuevo:\n",
    "        planetas.append(planeta_nuevo)\n",
    "    planeta_nuevo = input('Introduce un planeta: ')"
   ]
  },
  {
   "cell_type": "markdown",
   "metadata": {},
   "source": [
    "## Ejercicio 2\n",
    "\n",
    "Tenemos que crear un ciclo for iterando la lista de planetas y luego se imprime. "
   ]
  },
  {
   "cell_type": "code",
   "execution_count": 12,
   "metadata": {},
   "outputs": [
    {
     "name": "stdout",
     "output_type": "stream",
     "text": [
      "Mercurio\n",
      "Venus\n",
      "Tierra\n",
      "Marte\n",
      "Jupiter\n",
      "Saturno\n",
      "Urano\n",
      "Neptuno\n"
     ]
    }
   ],
   "source": [
    "for planetas in planetas:\n",
    "    print(planetas)"
   ]
  }
 ],
 "metadata": {
  "interpreter": {
   "hash": "f3a497726cf7abccf348f42c6cb7e10a4091e0ca8332c9f7e1fb391acd11e108"
  },
  "kernelspec": {
   "display_name": "Python 3.10.2 64-bit",
   "language": "python",
   "name": "python3"
  },
  "language_info": {
   "codemirror_mode": {
    "name": "ipython",
    "version": 3
   },
   "file_extension": ".py",
   "mimetype": "text/x-python",
   "name": "python",
   "nbconvert_exporter": "python",
   "pygments_lexer": "ipython3",
   "version": "3.10.2"
  },
  "orig_nbformat": 4
 },
 "nbformat": 4,
 "nbformat_minor": 2
}
