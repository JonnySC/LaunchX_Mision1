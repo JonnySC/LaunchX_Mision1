{
 "cells": [
  {
   "cell_type": "markdown",
   "metadata": {},
   "source": [
    "## Programa 9\n",
    "\n",
    "Ejercicio 1\n",
    "\n",
    "Se  nos pide trabajar con argumentos en funciones \n",
    "\n",
    "Primero se nos pide crear una funcion de 3 lecturas de combustibles y devuelva un informe."
   ]
  },
  {
   "cell_type": "code",
   "execution_count": 13,
   "metadata": {},
   "outputs": [],
   "source": [
    "def generar_informe(tanque_principal, tanque_externo, tanque_hidrógeno):\n",
    "    promedio_total = (tanque_principal + tanque_externo + tanque_hidrógeno) / 3\n",
    "    return f\"\"\"Informe del:\n",
    "    Total promedio: {promedio_total}%\n",
    "    Tanque principal: {tanque_principal}%\n",
    "    Tanque externo: {tanque_externo}%\n",
    "    Tanque de hidrogeno: {tanque_hidrógeno}% \n",
    "    \"\"\""
   ]
  },
  {
   "cell_type": "markdown",
   "metadata": {},
   "source": [
    "Se genera un informe de los 3 tanques de combustible y se saca el promedio"
   ]
  },
  {
   "cell_type": "code",
   "execution_count": 14,
   "metadata": {},
   "outputs": [
    {
     "name": "stdout",
     "output_type": "stream",
     "text": [
      "Informe del:\n",
      "    Total promedio: 78.33333333333333%\n",
      "    Tanque principal: 80%\n",
      "    Tanque externo: 70%\n",
      "    Tanque de hidrogeno: 85% \n",
      "    \n"
     ]
    }
   ],
   "source": [
    "print(generar_informe(80, 70, 85))"
   ]
  },
  {
   "cell_type": "markdown",
   "metadata": {},
   "source": [
    "Despues se crea una funcion donde solo nos de el promedio sin el informe "
   ]
  },
  {
   "cell_type": "code",
   "execution_count": 15,
   "metadata": {},
   "outputs": [
    {
     "data": {
      "text/plain": [
       "82.0"
      ]
     },
     "execution_count": 15,
     "metadata": {},
     "output_type": "execute_result"
    }
   ],
   "source": [
    "def promedio(values):\n",
    "    total = sum(values)\n",
    "    number_of_items = len(values)\n",
    "    return total / number_of_items\n",
    "\n",
    "\n",
    "promedio([80, 85, 81]) "
   ]
  },
  {
   "cell_type": "markdown",
   "metadata": {},
   "source": [
    "Despues actualizamos nuestra funcion pero mandando a llamar la funcion promedio"
   ]
  },
  {
   "cell_type": "code",
   "execution_count": 16,
   "metadata": {},
   "outputs": [
    {
     "name": "stdout",
     "output_type": "stream",
     "text": [
      "Informe del:\n",
      "    Total promedio: 78.0%\n",
      "    Tanque principal: 88%\n",
      "    Tanque externo: 76%\n",
      "    Tanque de hidrogeno: 70% \n",
      "    \n"
     ]
    }
   ],
   "source": [
    "def generar_informe(tanque_principal, tanque_externo, tanque_hidrógeno):\n",
    "    return f\"\"\"Informe del:\n",
    "    Total promedio: {promedio([tanque_principal, tanque_externo, tanque_hidrógeno])}%\n",
    "    Tanque principal: {tanque_principal}%\n",
    "    Tanque externo: {tanque_externo}%\n",
    "    Tanque de hidrogeno: {tanque_hidrógeno}% \n",
    "    \"\"\"\n",
    "\n",
    "\n",
    "print(generar_informe(88, 76, 70))"
   ]
  },
  {
   "cell_type": "markdown",
   "metadata": {},
   "source": [
    "## Ejercicio 2\n",
    "\n",
    "Argumentos de palabras clave en funciones \n",
    "\n",
    "Primero definimos nuestra funcion con los parametros que se nos proporcionaron, despues se suma el tiempo total de el total del viaje y el total de combustible."
   ]
  },
  {
   "cell_type": "code",
   "execution_count": 21,
   "metadata": {},
   "outputs": [
    {
     "name": "stdout",
     "output_type": "stream",
     "text": [
      "\n",
      "    Misión a la Luna\n",
      "    Tiempo total de viaje: 65 minutos\n",
      "    Combustible total restante: 500000 galones\n",
      "    \n"
     ]
    }
   ],
   "source": [
    "def informe_de_mision(tiempo_previo_al_lanzamiento, tiempo_de_vuelo, destino, tanque_externo , tanque_principal):\n",
    "    return f\"\"\"\n",
    "    Misión a la {destino}\n",
    "    Tiempo total de viaje: {tiempo_previo_al_lanzamiento + tiempo_de_vuelo} minutos\n",
    "    Combustible total restante: {tanque_externo + tanque_principal} galones\n",
    "    \"\"\"\n",
    "\n",
    "print(informe_de_mision(14, 51, \"Luna\", 200000, 300000))"
   ]
  },
  {
   "cell_type": "markdown",
   "metadata": {},
   "source": [
    "Se nos pide actualiza nuestra funcion con nuevos parametros y metodos"
   ]
  },
  {
   "cell_type": "code",
   "execution_count": 22,
   "metadata": {},
   "outputs": [
    {
     "name": "stdout",
     "output_type": "stream",
     "text": [
      "\n",
      "    Misión a la luna\n",
      "    Tiempo total de viaje: 76 minutos\n",
      "    Combustible total restante: 500000\n",
      "    \n"
     ]
    }
   ],
   "source": [
    "def informe_de_mision(destino, *minutos, **depositos_de_combustible):\n",
    "    return f\"\"\"\n",
    "    Misión a la {destino}\n",
    "    Tiempo total de viaje: {sum(minutos)} minutos\n",
    "    Combustible total restante: {sum(depositos_de_combustible.values())}\n",
    "    \"\"\"\n",
    "\n",
    "print(informe_de_mision(\"luna\", 10, 15, 51, main=300000, external=200000))"
   ]
  },
  {
   "cell_type": "markdown",
   "metadata": {},
   "source": [
    "Se nos pide volver a actualizar nuestra funcion para usar el nombre de cada tanque en el informe, agregando un ciclo for"
   ]
  },
  {
   "cell_type": "code",
   "execution_count": 27,
   "metadata": {},
   "outputs": [
    {
     "name": "stdout",
     "output_type": "stream",
     "text": [
      "\n",
      "    Misión a la luna\n",
      "    Tiempo total de viaje: 74 minutos\n",
      "    Combustible total restante: 500000\n",
      "    principal tanque --> 300000 galones externo tanque --> 200000 galones \n"
     ]
    }
   ],
   "source": [
    "def informe_de_mision(destino, *minutos, **depositos_de_combustible):\n",
    "    informe_principal = f\"\"\"\n",
    "    Misión a la {destino}\n",
    "    Tiempo total de viaje: {sum(minutos)} minutos\n",
    "    Combustible total restante: {sum(depositos_de_combustible.values())}\n",
    "    \"\"\"\n",
    "    for nombre_del_tanque, galones in depositos_de_combustible.items():\n",
    "        informe_principal += f\"{nombre_del_tanque} tanque --> {galones} galones \"\n",
    "    return informe_principal\n",
    "\n",
    "print(informe_de_mision(\"luna\", 8, 11, 55, principal=300000, externo=200000))"
   ]
  }
 ],
 "metadata": {
  "interpreter": {
   "hash": "f3a497726cf7abccf348f42c6cb7e10a4091e0ca8332c9f7e1fb391acd11e108"
  },
  "kernelspec": {
   "display_name": "Python 3.10.2 64-bit",
   "language": "python",
   "name": "python3"
  },
  "language_info": {
   "codemirror_mode": {
    "name": "ipython",
    "version": 3
   },
   "file_extension": ".py",
   "mimetype": "text/x-python",
   "name": "python",
   "nbconvert_exporter": "python",
   "pygments_lexer": "ipython3",
   "version": "3.10.2"
  },
  "orig_nbformat": 4
 },
 "nbformat": 4,
 "nbformat_minor": 2
}
